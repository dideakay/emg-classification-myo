{
 "cells": [
  {
   "cell_type": "code",
   "execution_count": 1,
   "id": "b66c0714",
   "metadata": {},
   "outputs": [],
   "source": [
    "import pandas as pd\n",
    "from sklearn.model_selection import train_test_split\n",
    "from sklearn.neighbors import KNeighborsClassifier\n",
    "from sklearn.metrics import accuracy_score\n",
    "from sklearn.metrics import classification_report\n",
    "\n",
    "df1 = pd.read_csv('merged_gesture_rms_var_1.csv')\n",
    "df2 = pd.read_csv('merged_gesture_rms_var_2.csv')\n",
    "df3 = pd.read_csv('merged_gesture_rms_var_3.csv')\n",
    "df4 = pd.read_csv('merged_gesture_rms_var_5.csv')\n",
    "df5 = pd.read_csv('merged_gesture_rms_var_4.csv')\n",
    "df6 = pd.read_csv('merged_gesture_rms_var_6.csv')\n",
    "data = pd.concat([df1, df2, df3, df4, df5, df6])"
   ]
  },
  {
   "cell_type": "markdown",
   "id": "bf85cbb1",
   "metadata": {},
   "source": [
    "## Selected Feature: RMS"
   ]
  },
  {
   "cell_type": "code",
   "execution_count": 2,
   "id": "f9e74d9f",
   "metadata": {},
   "outputs": [
    {
     "name": "stdout",
     "output_type": "stream",
     "text": [
      "Accuracy: 0.9484536082474226\n"
     ]
    },
    {
     "name": "stderr",
     "output_type": "stream",
     "text": [
      "C:\\Users\\Dide\\anaconda3\\lib\\site-packages\\sklearn\\neighbors\\_classification.py:228: FutureWarning: Unlike other reduction functions (e.g. `skew`, `kurtosis`), the default behavior of `mode` typically preserves the axis it acts along. In SciPy 1.11.0, this behavior will change: the default value of `keepdims` will become False, the `axis` over which the statistic is taken will be eliminated, and the value None will no longer be accepted. Set `keepdims` to True or False to avoid this warning.\n",
      "  mode, _ = stats.mode(_y[neigh_ind, k], axis=1)\n"
     ]
    }
   ],
   "source": [
    "\n",
    "#Preprocess the data\n",
    "X = data.iloc[:, :8]  # Features (RMS values of sensors)\n",
    "y = data.iloc[:, 16]   # Labels (gesture classes)\n",
    "\n",
    "X_train, X_test, y_train, y_test = train_test_split(X, y, test_size=0.2, random_state=42)\n",
    "\n",
    "# Step 3: Train the k-NN classifier\n",
    "k = 5  # Number of neighbors\n",
    "knn = KNeighborsClassifier(n_neighbors=k)\n",
    "knn.fit(X_train, y_train)\n",
    "\n",
    "# Step 4: Predict the gesture labels\n",
    "y_pred = knn.predict(X_test)\n",
    "\n",
    "# Step 5: Evaluate the performance\n",
    "accuracy = accuracy_score(y_test, y_pred)\n",
    "print(\"Accuracy:\", accuracy)"
   ]
  },
  {
   "cell_type": "code",
   "execution_count": 3,
   "id": "292b74de",
   "metadata": {},
   "outputs": [
    {
     "name": "stdout",
     "output_type": "stream",
     "text": [
      "              precision    recall  f1-score   support\n",
      "\n",
      "           1       0.84      0.94      0.88        77\n",
      "           2       0.98      0.94      0.96        53\n",
      "           3       0.97      0.90      0.93        31\n",
      "           4       0.90      0.82      0.86        74\n",
      "           5       0.99      1.00      0.99       250\n",
      "\n",
      "    accuracy                           0.95       485\n",
      "   macro avg       0.93      0.92      0.93       485\n",
      "weighted avg       0.95      0.95      0.95       485\n",
      "\n"
     ]
    }
   ],
   "source": [
    "report = classification_report(y_test, y_pred)\n",
    "print(report)"
   ]
  },
  {
   "cell_type": "markdown",
   "id": "8b7172a6",
   "metadata": {},
   "source": [
    "## Selected Feature: VARIANCE"
   ]
  },
  {
   "cell_type": "code",
   "execution_count": 4,
   "id": "9b4c2db8",
   "metadata": {},
   "outputs": [
    {
     "name": "stdout",
     "output_type": "stream",
     "text": [
      "Accuracy: 0.9154639175257732\n"
     ]
    },
    {
     "name": "stderr",
     "output_type": "stream",
     "text": [
      "C:\\Users\\Dide\\anaconda3\\lib\\site-packages\\sklearn\\neighbors\\_classification.py:228: FutureWarning: Unlike other reduction functions (e.g. `skew`, `kurtosis`), the default behavior of `mode` typically preserves the axis it acts along. In SciPy 1.11.0, this behavior will change: the default value of `keepdims` will become False, the `axis` over which the statistic is taken will be eliminated, and the value None will no longer be accepted. Set `keepdims` to True or False to avoid this warning.\n",
      "  mode, _ = stats.mode(_y[neigh_ind, k], axis=1)\n"
     ]
    }
   ],
   "source": [
    "#Preprocess the data\n",
    "X = data.iloc[:, 7:16]  # Select the second 8 columns as features\n",
    "y = data.iloc[:, 16]   # the 17th column contains the gesture labels\n",
    "\n",
    "X_train, X_test, y_train, y_test = train_test_split(X, y, test_size=0.2, random_state=42)\n",
    "\n",
    "# Step 3: Train the k-NN classifier\n",
    "k = 5  # Number of neighbors\n",
    "knn = KNeighborsClassifier(n_neighbors=k)\n",
    "knn.fit(X_train, y_train)\n",
    "\n",
    "# Step 4: Predict the gesture labels\n",
    "y_pred = knn.predict(X_test)\n",
    "\n",
    "# Step 5: Evaluate the performance\n",
    "accuracy = accuracy_score(y_test, y_pred)\n",
    "print(\"Accuracy:\", accuracy)"
   ]
  },
  {
   "cell_type": "code",
   "execution_count": 5,
   "id": "6b5f1f06",
   "metadata": {},
   "outputs": [
    {
     "name": "stdout",
     "output_type": "stream",
     "text": [
      "              precision    recall  f1-score   support\n",
      "\n",
      "           1       0.73      0.94      0.82        77\n",
      "           2       0.98      0.92      0.95        53\n",
      "           3       0.96      0.84      0.90        31\n",
      "           4       0.83      0.66      0.74        74\n",
      "           5       0.99      0.99      0.99       250\n",
      "\n",
      "    accuracy                           0.92       485\n",
      "   macro avg       0.90      0.87      0.88       485\n",
      "weighted avg       0.92      0.92      0.91       485\n",
      "\n"
     ]
    }
   ],
   "source": [
    "report = classification_report(y_test, y_pred)\n",
    "print(report)"
   ]
  },
  {
   "cell_type": "markdown",
   "id": "474c8fe9",
   "metadata": {},
   "source": [
    "## Selected Feature: RMS + VARIANCE"
   ]
  },
  {
   "cell_type": "code",
   "execution_count": 6,
   "id": "906170fc",
   "metadata": {},
   "outputs": [
    {
     "name": "stdout",
     "output_type": "stream",
     "text": [
      "Accuracy: 0.9154639175257732\n"
     ]
    },
    {
     "name": "stderr",
     "output_type": "stream",
     "text": [
      "C:\\Users\\Dide\\anaconda3\\lib\\site-packages\\sklearn\\neighbors\\_classification.py:228: FutureWarning: Unlike other reduction functions (e.g. `skew`, `kurtosis`), the default behavior of `mode` typically preserves the axis it acts along. In SciPy 1.11.0, this behavior will change: the default value of `keepdims` will become False, the `axis` over which the statistic is taken will be eliminated, and the value None will no longer be accepted. Set `keepdims` to True or False to avoid this warning.\n",
      "  mode, _ = stats.mode(_y[neigh_ind, k], axis=1)\n"
     ]
    }
   ],
   "source": [
    "#Preprocess the data\n",
    "X = data.iloc[:, :16]  # Select all 16 columns as features\n",
    "y = data.iloc[:, 16]   # the 17th column contains the gesture labels\n",
    "\n",
    "X_train, X_test, y_train, y_test = train_test_split(X, y, test_size=0.2, random_state=42)\n",
    "\n",
    "# Step 3: Train the k-NN classifier\n",
    "k = 5  # Number of neighbors\n",
    "knn = KNeighborsClassifier(n_neighbors=k)\n",
    "knn.fit(X_train, y_train)\n",
    "\n",
    "# Step 4: Predict the gesture labels\n",
    "y_pred = knn.predict(X_test)\n",
    "\n",
    "# Step 5: Evaluate the performance\n",
    "accuracy = accuracy_score(y_test, y_pred)\n",
    "print(\"Accuracy:\", accuracy)"
   ]
  },
  {
   "cell_type": "code",
   "execution_count": 7,
   "id": "b8370869",
   "metadata": {},
   "outputs": [
    {
     "name": "stdout",
     "output_type": "stream",
     "text": [
      "              precision    recall  f1-score   support\n",
      "\n",
      "           1       0.73      0.94      0.82        77\n",
      "           2       0.98      0.92      0.95        53\n",
      "           3       0.96      0.84      0.90        31\n",
      "           4       0.83      0.66      0.74        74\n",
      "           5       0.99      0.99      0.99       250\n",
      "\n",
      "    accuracy                           0.92       485\n",
      "   macro avg       0.90      0.87      0.88       485\n",
      "weighted avg       0.92      0.92      0.91       485\n",
      "\n"
     ]
    }
   ],
   "source": [
    "report = classification_report(y_test, y_pred)\n",
    "print(report)"
   ]
  },
  {
   "cell_type": "code",
   "execution_count": null,
   "id": "10e8ec02",
   "metadata": {},
   "outputs": [],
   "source": []
  }
 ],
 "metadata": {
  "kernelspec": {
   "display_name": "Python 3 (ipykernel)",
   "language": "python",
   "name": "python3"
  },
  "language_info": {
   "codemirror_mode": {
    "name": "ipython",
    "version": 3
   },
   "file_extension": ".py",
   "mimetype": "text/x-python",
   "name": "python",
   "nbconvert_exporter": "python",
   "pygments_lexer": "ipython3",
   "version": "3.9.13"
  }
 },
 "nbformat": 4,
 "nbformat_minor": 5
}
