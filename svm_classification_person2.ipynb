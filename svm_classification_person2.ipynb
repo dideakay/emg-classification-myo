{
 "cells": [
  {
   "cell_type": "markdown",
   "id": "896085be",
   "metadata": {},
   "source": [
    "## Classification with SVM\n",
    "- Support Vector Machine with linear kernel is used\n",
    "- 20% of the data is separated for testing"
   ]
  },
  {
   "cell_type": "code",
   "execution_count": 4,
   "id": "186b7346",
   "metadata": {},
   "outputs": [],
   "source": [
    "import pandas as pd\n",
    "from sklearn.model_selection import train_test_split\n",
    "from sklearn.preprocessing import StandardScaler\n",
    "from sklearn.svm import SVC\n",
    "from sklearn.metrics import classification_report"
   ]
  },
  {
   "cell_type": "code",
   "execution_count": 5,
   "id": "f664ce00",
   "metadata": {},
   "outputs": [],
   "source": [
    "df1 = pd.read_csv('merged_gesture_rms_var_4.csv')\n",
    "df2 = pd.read_csv('merged_gesture_rms_var_6.csv')\n",
    "df_sum = pd.concat([df1, df2])"
   ]
  },
  {
   "cell_type": "markdown",
   "id": "fed1ff5c",
   "metadata": {},
   "source": [
    "## Selected Feature: RMS"
   ]
  },
  {
   "cell_type": "code",
   "execution_count": 8,
   "id": "5244b3d2",
   "metadata": {},
   "outputs": [
    {
     "name": "stdout",
     "output_type": "stream",
     "text": [
      "              precision    recall  f1-score   support\n",
      "\n",
      "           1       0.96      0.96      0.96        57\n",
      "           2       1.00      1.00      1.00        12\n",
      "           3       0.87      0.93      0.90        14\n",
      "           4       0.97      0.90      0.93        31\n",
      "           5       0.99      1.00      0.99        95\n",
      "\n",
      "    accuracy                           0.97       209\n",
      "   macro avg       0.96      0.96      0.96       209\n",
      "weighted avg       0.97      0.97      0.97       209\n",
      "\n"
     ]
    }
   ],
   "source": [
    "# Step 1: Prepare the Data\n",
    "X = df_sum.iloc[:, :8]  # Select the first 8 columns as features\n",
    "y = df_sum.iloc[:, 16]   # the 9th column contains the gesture labels\n",
    "\n",
    "# Step 2: Split the Data\n",
    "X_train, X_test, y_train, y_test = train_test_split(X, y, test_size=0.2, random_state=42)\n",
    "\n",
    "# Step 3: Normalize the Data\n",
    "scaler = StandardScaler()\n",
    "X_train = scaler.fit_transform(X_train)\n",
    "X_test = scaler.transform(X_test)\n",
    "\n",
    "# Step 4: Train the SVM Model\n",
    "svm = SVC(kernel='linear', C=1.0)\n",
    "svm.fit(X_train, y_train)\n",
    "\n",
    "# Step 5: Evaluate the Model\n",
    "y_pred = svm.predict(X_test)\n",
    "report = classification_report(y_test, y_pred)\n",
    "print(report)\n"
   ]
  },
  {
   "cell_type": "markdown",
   "id": "d0710d2c",
   "metadata": {},
   "source": [
    "## Selected Feature: VARIANCE"
   ]
  },
  {
   "cell_type": "code",
   "execution_count": 9,
   "id": "6fcab98d",
   "metadata": {},
   "outputs": [
    {
     "name": "stdout",
     "output_type": "stream",
     "text": [
      "              precision    recall  f1-score   support\n",
      "\n",
      "           1       0.96      0.91      0.94        57\n",
      "           2       1.00      1.00      1.00        12\n",
      "           3       0.87      0.93      0.90        14\n",
      "           4       0.97      0.90      0.93        31\n",
      "           5       0.96      1.00      0.98        95\n",
      "\n",
      "    accuracy                           0.96       209\n",
      "   macro avg       0.95      0.95      0.95       209\n",
      "weighted avg       0.96      0.96      0.96       209\n",
      "\n"
     ]
    }
   ],
   "source": [
    "# Step 1: Prepare the Data\n",
    "X = df_sum.iloc[:, 7:16]  # Select the first 8 columns as features\n",
    "y = df_sum.iloc[:, 16]   # the 17th column contains the gesture labels\n",
    "\n",
    "# Step 2: Split the Data\n",
    "X_train, X_test, y_train, y_test = train_test_split(X, y, test_size=0.2, random_state=42)\n",
    "\n",
    "# Step 3: Normalize the Data\n",
    "scaler = StandardScaler()\n",
    "X_train = scaler.fit_transform(X_train)\n",
    "X_test = scaler.transform(X_test)\n",
    "\n",
    "# Step 4: Train the SVM Model\n",
    "svm = SVC(kernel='linear', C=1.0)\n",
    "svm.fit(X_train, y_train)\n",
    "\n",
    "# Step 5: Evaluate the Model\n",
    "y_pred = svm.predict(X_test)\n",
    "report = classification_report(y_test, y_pred)\n",
    "print(report)"
   ]
  },
  {
   "cell_type": "markdown",
   "id": "ef869a2e",
   "metadata": {},
   "source": [
    "## Selected Feature: RMS + VARIANCE"
   ]
  },
  {
   "cell_type": "code",
   "execution_count": 10,
   "id": "476b32f0",
   "metadata": {},
   "outputs": [
    {
     "name": "stdout",
     "output_type": "stream",
     "text": [
      "              precision    recall  f1-score   support\n",
      "\n",
      "           1       0.96      0.96      0.96        57\n",
      "           2       1.00      1.00      1.00        12\n",
      "           3       0.87      0.93      0.90        14\n",
      "           4       0.97      0.90      0.93        31\n",
      "           5       0.99      1.00      0.99        95\n",
      "\n",
      "    accuracy                           0.97       209\n",
      "   macro avg       0.96      0.96      0.96       209\n",
      "weighted avg       0.97      0.97      0.97       209\n",
      "\n"
     ]
    }
   ],
   "source": [
    "# Step 1: Prepare the Data\n",
    "X = df_sum.iloc[:, :16]  # Select the first 16 columns as features\n",
    "y = df_sum.iloc[:, 16]   # the 17th column contains the gesture labels\n",
    "\n",
    "# Step 2: Split the Data\n",
    "X_train, X_test, y_train, y_test = train_test_split(X, y, test_size=0.2, random_state=42)\n",
    "\n",
    "# Step 3: Normalize the Data\n",
    "scaler = StandardScaler()\n",
    "X_train = scaler.fit_transform(X_train)\n",
    "X_test = scaler.transform(X_test)\n",
    "\n",
    "# Step 4: Train the SVM Model\n",
    "svm = SVC(kernel='linear', C=1.0)\n",
    "svm.fit(X_train, y_train)\n",
    "\n",
    "# Step 5: Evaluate the Model\n",
    "y_pred = svm.predict(X_test)\n",
    "report = classification_report(y_test, y_pred)\n",
    "print(report)"
   ]
  },
  {
   "cell_type": "code",
   "execution_count": null,
   "id": "c513f5a2",
   "metadata": {},
   "outputs": [],
   "source": []
  }
 ],
 "metadata": {
  "kernelspec": {
   "display_name": "Python 3 (ipykernel)",
   "language": "python",
   "name": "python3"
  },
  "language_info": {
   "codemirror_mode": {
    "name": "ipython",
    "version": 3
   },
   "file_extension": ".py",
   "mimetype": "text/x-python",
   "name": "python",
   "nbconvert_exporter": "python",
   "pygments_lexer": "ipython3",
   "version": "3.9.13"
  }
 },
 "nbformat": 4,
 "nbformat_minor": 5
}
